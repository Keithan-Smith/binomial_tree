{
 "cells": [
  {
   "cell_type": "markdown",
   "id": "7e66156c",
   "metadata": {},
   "source": [
    "# Multi-Period Binomial Asset Pricing Model"
   ]
  },
  {
   "cell_type": "markdown",
   "id": "3792b92a",
   "metadata": {},
   "source": [
    "Consider a multiperiod binomial asset model for an asset S with N periods. Under this particular model, we have the following assumptions:\n",
    "- the initial price of the asset is $S_0 = 1$\n",
    "- under the risk-neutral measure, the asset price at period $j$ is $S_j = (1+v)S_{j-1}$ with probability $1/2$, with $0 < v < 1$; and \n",
    "- the interest rate associated with borrowing/lending currency for a single time period is 0.  "
   ]
  },
  {
   "cell_type": "markdown",
   "id": "3e5ce5ac",
   "metadata": {},
   "source": [
    "## Import Libraries"
   ]
  },
  {
   "cell_type": "code",
   "execution_count": 1,
   "id": "f703eaac",
   "metadata": {},
   "outputs": [],
   "source": [
    "# Import necessary libraries \n",
    "\n",
    "import numpy as np \n",
    "import matplotlib.pyplot as plt "
   ]
  },
  {
   "cell_type": "markdown",
   "id": "2b86cc22",
   "metadata": {},
   "source": [
    "#### Implement a function which, given v, and the strike K of a European call option on the asset S, expiring after N periods, returns its value V. "
   ]
  },
  {
   "cell_type": "code",
   "execution_count": 2,
   "id": "a0f894a6",
   "metadata": {},
   "outputs": [
    {
     "name": "stdout",
     "output_type": "stream",
     "text": [
      "The value of the European call option is: 0.0831268750000002\n"
     ]
    }
   ],
   "source": [
    "def european_call_option_value(v, K, S, N): \n",
    "    u = 1 + v\n",
    "    d = 1 - v\n",
    "    p = 0.5  # Probability of up move\n",
    "\n",
    "    # Calculate risk-neutral probability (not necessary since p is given and r = 0)\n",
    "    q = p  # Since r = 0, we don't need to adjust for risk-neutral probabilities\n",
    "\n",
    "    # Initialize an array to hold the stock prices at maturity\n",
    "    stock_prices_at_maturity = np.array([S * (u ** (N - i)) * (d ** i) for i in range(N+1)])\n",
    "\n",
    "    # Calculate the option payoffs at maturity\n",
    "    option_payoffs = np.maximum(stock_prices_at_maturity - K, 0)\n",
    "    \n",
    "    # Calculate the expected payoff\n",
    "    expected_payoff = sum([option_payoffs[i] * binom(N, i) * (q ** (N - i)) * ((1 - q) ** i) for i in range(N+1)])\n",
    "\n",
    "    # Since r=0, we don't need to discount the expected payoff\n",
    "    option_price_today = expected_payoff\n",
    "\n",
    "    return option_price_today\n",
    "\n",
    "# Helper function to calculate binomial coefficient\n",
    "def binom(n, k):\n",
    "    return np.math.factorial(n) // (np.math.factorial(k) * np.math.factorial(n - k))\n",
    "\n",
    "# Example usage:\n",
    "v = 0.1  # Volatility factor\n",
    "K = 1.02  # Strike price\n",
    "S0 = 1    # Initial stock price\n",
    "N = 5     # Number of periods\n",
    "option_value = european_call_option_value(v, K, S0, N)\n",
    "print(f\"The value of the European call option is: {option_value}\")\n"
   ]
  },
  {
   "cell_type": "markdown",
   "id": "e86e0d39",
   "metadata": {},
   "source": [
    "## Question 2"
   ]
  },
  {
   "cell_type": "code",
   "execution_count": 5,
   "id": "0ae62a50",
   "metadata": {},
   "outputs": [
    {
     "name": "stdout",
     "output_type": "stream",
     "text": [
      "0.500000734879096\n"
     ]
    }
   ],
   "source": [
    "epochs = 1000\n",
    "eta = 0.01\n",
    "\n",
    "# Back propagation\n",
    "\n",
    "def Q2(K, V, S, N):\n",
    "    \n",
    "    # Initialise some growth rate between 0 and 1\n",
    "    v_hat = 0.9\n",
    "    \n",
    "    # Storage for the losses\n",
    "    losses = []\n",
    "    \n",
    "    for it in range(epochs):\n",
    "\n",
    "        # Recall growth factors for up-state and down-state\n",
    "        u = 1 + v_hat\n",
    "        d = 1 - v_hat\n",
    "\n",
    "        # Calculate risk-neutral probabilities \n",
    "        q = ( (1 + r) - d ) / ( u - d )\n",
    "\n",
    "        # Calculate discount \n",
    "        discount = (1/(1+r)**N)\n",
    "\n",
    "        # Possible paths taken to maturity  \n",
    "        downmoves = np.arange(N,-1,-1)\n",
    "        upmoves = np.arange(0,N+1,1)\n",
    "\n",
    "        # Initialise stock prices at maturity for a recombining tree in a dynamically complete market \n",
    "        Stock = S * d**downmoves * u**upmoves\n",
    "\n",
    "        # European Call Option can only be exercised at maturity, hence I am unconcerned by events t : [1,...,N-1] \n",
    "        EuroCall_payoffs = np.maximum(0, Stock - K)\n",
    "\n",
    "        # Calculate the discounted risk neutral expectation of call price, today \n",
    "        prob = q**downmoves * (1-q)**upmoves\n",
    "        Expectation = EuroCall_payoffs * prob\n",
    "        EuroCall_Price0 = discount * Expectation.sum()\n",
    "        \n",
    "        # Compute square losses, then store  \n",
    "        loss = (EuroCall_Price0 - V)**2\n",
    "        losses.append(loss)\n",
    "        \n",
    "        # Trigger to stop the loop if convergence occurs early\n",
    "        if loss == 0:\n",
    "            return v_hat\n",
    "        \n",
    "        # Individual derivatives\n",
    "        payoff_prime = S * (upmoves * d**downmoves * u**(upmoves - 1) - downmoves * d**(downmoves - 1) * u**upmoves)\n",
    "        prob_prime = (r / 2 * v_hat**2) * (upmoves * q**downmoves * (1 - q)**(upmoves-1) - downmoves * q**(downmoves-1) * (1 - q)**upmoves)\n",
    "        \n",
    "        # Gradient terms, resulting from product rule \n",
    "        grad1 = payoff_prime * prob\n",
    "        grad2 = EuroCall_payoffs * prob_prime\n",
    "        \n",
    "        # Derivative of the loss function with respect to v, i.e. complete gradient term\n",
    "        gradient = (discount * 2 * (EuroCall_Price0 - V) * (grad1 + grad2)).sum()\n",
    "        \n",
    "        # Update v_hat \n",
    "        v_hat -= eta * gradient\n",
    "        \n",
    "    return v_hat, losses, payoff_prime, EuroCall_Price0\n",
    "\n",
    "optimal_v = Q2(K = 1.02, V = 0.25265625, S = S0, N = 5)\n",
    "print(optimal_v[0]) \n"
   ]
  },
  {
   "cell_type": "code",
   "execution_count": 6,
   "id": "c9f1eafa",
   "metadata": {},
   "outputs": [
    {
     "data": {
      "image/png": "[encoded data removed]",
      "text/plain": [
       "<Figure size 432x288 with 1 Axes>"
      ]
     },
     "metadata": {
      "needs_background": "light"
     },
     "output_type": "display_data"
    }
   ],
   "source": [
    "# Plotting the losses of the gradient descent model used to calibrate growth rate, v\n",
    "plt.plot(optimal_v[1])\n",
    "plt.xlabel(\"iteration\")\n",
    "plt.ylabel(\"loss\")\n",
    "plt.title(\"Gradient Descent to calibrate growth rate 'v'\")\n",
    "\n",
    "plt.show()"
   ]
  },
  {
   "cell_type": "markdown",
   "id": "e1bf9ffb",
   "metadata": {},
   "source": [
    "## Question 3"
   ]
  },
  {
   "cell_type": "code",
   "execution_count": 13,
   "id": "51398301",
   "metadata": {},
   "outputs": [
    {
     "name": "stdout",
     "output_type": "stream",
     "text": [
      "[0.0625 0.1875 0.5625 1.6875 5.0625] [0.       0.       0.       0.755625 4.0425  ]\n",
      "[0.125 0.375 1.125 3.375] [0.        0.        0.3778125 2.3990625]\n",
      "[0.25 0.75 2.25] [0.         0.18890625 1.3884375 ]\n",
      "[0.5 1.5] [0.09445312 0.78867188]\n",
      "[1.] [0.4415625]\n",
      "0.4415625000000001\n"
     ]
    }
   ],
   "source": [
    "# Define function to calculate value of American call option\n",
    "def Q3(v, r, K, S, N): \n",
    "   \n",
    "    # Recall growth factors\n",
    "    u = 1 + v \n",
    "    d = 1 - v\n",
    "    \n",
    "    # Calculate risk-neutral probabilities \n",
    "    q = ( (1 + r) - d ) / ( u - d )\n",
    "\n",
    "    # Calculate discount \n",
    "    discount = 1 #due to risk free rate being 0 \n",
    "    \n",
    "    # Possible paths to maturity  \n",
    "    downmoves = np.arange(N,-1,-1)\n",
    "    upmoves = np.arange(0,N+1,1)\n",
    "    \n",
    "    # Stock Prices at maturity \n",
    "    Stock = S * d**downmoves * u**upmoves\n",
    "\n",
    "    # American Call Payoff at Maturity \n",
    "    AmerCall = np.maximum(0, Stock - K)\n",
    "    \n",
    "    # Can be exercised before maturity -> Back propagate through the tree\n",
    "    for steps in np.arange(N-1,-1,-1): #from second to last column to second column\n",
    "        Stocks = S * d**(np.arange(steps,-1,-1)) * u**(np.arange(0,steps+1,1)) #each time we step through time of tree, calculate full array\n",
    "        AmerCall[:steps+1] = discount * ( q*AmerCall[1:steps+2] + (1-q)*AmerCall[:steps+1] ) #to update possible downpaths and up paths for each split \n",
    "        AmerCall = AmerCall[:-1] #knock off the last value when stepping back through the tree, so S and C have same size\n",
    "        \n",
    "        AmerCall = np.maximum(AmerCall, S - K) # Keep either continuation value, or exercise option at current node\n",
    "        \n",
    "        print(Stocks, AmerCall)\n",
    "    \n",
    "    return (AmerCall[0])\n",
    "\n",
    "AmericanCall_price = Q3(v = v[5], r = r, K = 1.02, S = S0, N = 5)\n",
    "\n",
    "print(AmericanCall_price)\n",
    "    "
   ]
  },
  {
   "cell_type": "markdown",
   "id": "b2837548",
   "metadata": {},
   "source": [
    "## Question 4"
   ]
  },
  {
   "cell_type": "markdown",
   "id": "ef0dd473",
   "metadata": {},
   "source": [
    "* I expect largest stock price at each period j, will occur in state where price only goes up for N periods\n",
    "* Therefore, where growth rate, v, is taken as constant then expectation (mean) of largest stock value should occur at the last node"
   ]
  },
  {
   "cell_type": "code",
   "execution_count": 7,
   "id": "7a875104",
   "metadata": {},
   "outputs": [
    {
     "name": "stdout",
     "output_type": "stream",
     "text": [
      "(4.356099999999999, [4.356099999999999, 2.7512199999999996, 1.8099999999999998, 1.2699999999999998, 1.0, 1.0])\n"
     ]
    }
   ],
   "source": [
    "N = 5\n",
    "S0 = 1\n",
    "\n",
    "#---------------------------#\n",
    "#-----------For Fun---------#\n",
    "#---------------------------#\n",
    "\n",
    "# Define function for largest stock value\n",
    "def max_stocks(v):\n",
    "    u = 1 + v \n",
    "    Stock = S0 * u**np.arange(1, N+1, 1) \n",
    "    \n",
    "#---------------------------#\n",
    "#------------Q4-------------#\n",
    "#---------------------------#\n",
    "\n",
    "# Define function for expectation of largest Stock prices at maturity for European Option \n",
    "def expectation_Sj(v):\n",
    "    \n",
    "    # Recall growth factors for up-state and down-state\n",
    "    u = 1 + v\n",
    "    d = 1 - v\n",
    "    \n",
    "    # Expectation \n",
    "    Max_expectation = []\n",
    "\n",
    "    # Initialise stock prices at maturity for a recombining tree in a dynamically complete market \n",
    "    for steps in np.arange(N,-1,-1): #from second to last column to second column\n",
    "        Stocks = S0 * d**(np.arange(steps,-1,-1)) * u**(np.arange(0,steps+1,1)) \n",
    "        Expectation = np.mean(Stocks)\n",
    "        Max_expectation.append(Expectation)\n",
    "    \n",
    "    return (max(Max_expectation), Max_expectation)\n",
    "\n",
    "Expectation_max_S_j = expectation_Sj(v = v[9])\n",
    "\n",
    "print (Expectation_max_S_j)\n",
    "\n",
    "# Account for all possible paths \n",
    "# Then calculate the maximum across all paths in time \n",
    "# Then take the expectation \n",
    "# Look back option -- similar concept "
   ]
  }
 ],
 "metadata": {
  "kernelspec": {
   "display_name": "Python 3 (ipykernel)",
   "language": "python",
   "name": "python3"
  },
  "language_info": {
   "codemirror_mode": {
    "name": "ipython",
    "version": 3
   },
   "file_extension": ".py",
   "mimetype": "text/x-python",
   "name": "python",
   "nbconvert_exporter": "python",
   "pygments_lexer": "ipython3",
   "version": "3.11.4"
  }
 },
 "nbformat": 4,
 "nbformat_minor": 5
}
