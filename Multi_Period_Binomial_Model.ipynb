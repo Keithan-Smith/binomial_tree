{
 "cells": [
  {
   "cell_type": "markdown",
   "id": "7e66156c",
   "metadata": {},
   "source": [
    "# Multi-Period Binomial Asset Pricing Model"
   ]
  },
  {
   "cell_type": "markdown",
   "id": "3792b92a",
   "metadata": {},
   "source": [
    "Consider a multiperiod binomial asset model for an asset S with N periods. Under this particular model, we have the following assumptions:\n",
    "- the initial price of the asset is $S_0 = 1$\n",
    "- under the risk-neutral measure, the asset price at period $j$ is $S_j = (1+v)S_{j-1}$ with probability $1/2$, with $0 < v < 1$; and \n",
    "- the interest rate associated with borrowing/lending currency for a single time period is 0.  "
   ]
  },
  {
   "cell_type": "markdown",
   "id": "3e5ce5ac",
   "metadata": {},
   "source": [
    "## Import Libraries"
   ]
  },
  {
   "cell_type": "code",
   "execution_count": 1,
   "id": "f703eaac",
   "metadata": {},
   "outputs": [],
   "source": [
    "# Import necessary libraries \n",
    "\n",
    "import numpy as np \n",
    "import matplotlib.pyplot as plt "
   ]
  },
  {
   "cell_type": "markdown",
   "id": "2b86cc22",
   "metadata": {},
   "source": [
    "#### Implement a function which, given v, and the strike K of a European call option on the asset S, expiring after N periods, returns its value V. "
   ]
  },
  {
   "cell_type": "code",
   "execution_count": 2,
   "id": "a0f894a6",
   "metadata": {},
   "outputs": [
    {
     "name": "stdout",
     "output_type": "stream",
     "text": [
      "The value of the European call option is: 0.0831268750000002\n"
     ]
    }
   ],
   "source": [
    "def european_call_option_value(v, K, S, N): \n",
    "    u = 1 + v\n",
    "    d = 1 - v\n",
    "    p = 0.5  # Probability of up move\n",
    "\n",
    "    # Calculate risk-neutral probability (not necessary since p is given and r = 0)\n",
    "    q = p  # Since r = 0, we don't need to adjust for risk-neutral probabilities\n",
    "\n",
    "    # Initialize an array to hold the stock prices at maturity\n",
    "    stock_prices_at_maturity = np.array([S * (u ** (N - i)) * (d ** i) for i in range(N+1)])\n",
    "\n",
    "    # Calculate the option payoffs at maturity\n",
    "    option_payoffs = np.maximum(stock_prices_at_maturity - K, 0)\n",
    "    \n",
    "    # Calculate the expected payoff\n",
    "    expected_payoff = sum([option_payoffs[i] * binom(N, i) * (q ** (N - i)) * ((1 - q) ** i) for i in range(N+1)])\n",
    "\n",
    "    # Since r=0, we don't need to discount the expected payoff\n",
    "    option_price_today = expected_payoff\n",
    "\n",
    "    return option_price_today\n",
    "\n",
    "# Helper function to calculate binomial coefficient\n",
    "def binom(n, k):\n",
    "    return np.math.factorial(n) // (np.math.factorial(k) * np.math.factorial(n - k))\n",
    "\n",
    "# Example usage:\n",
    "v = 0.1  # Volatility factor\n",
    "K = 1.02  # Strike price\n",
    "S0 = 1    # Initial stock price\n",
    "N = 5     # Number of periods\n",
    "option_value = european_call_option_value(v, K, S0, N)\n",
    "print(f\"The value of the European call option is: {option_value}\")\n"
   ]
  },
  {
   "cell_type": "markdown",
   "id": "e86e0d39",
   "metadata": {},
   "source": [
    "#### Implement a function which, given the strike K and value V of a European call option on the asset S, expiring after N periods, calibrates v to match this price."
   ]
  },
  {
   "cell_type": "code",
   "execution_count": 3,
   "id": "afe811b0",
   "metadata": {},
   "outputs": [
    {
     "name": "stdout",
     "output_type": "stream",
     "text": [
      "Optimal v: 0.3345705731612358\n"
     ]
    }
   ],
   "source": [
    "# Define the binomial coefficient function\n",
    "def binomial_coeff(n, k):\n",
    "    return np.math.factorial(n) // (np.math.factorial(k) * np.math.factorial(n - k))\n",
    "\n",
    "# Define the calibration function\n",
    "def calibrate_v(K, V, S, N, epochs=1000, eta=0.01, tolerance=1e-8):\n",
    "    v_hat = 0.9  # Initial guess for v\n",
    "    losses = []  # To store the loss values \n",
    "\n",
    "    for epoch in range(epochs):\n",
    "        # Binomial model factors\n",
    "        u = 1 + v_hat\n",
    "        d = 1 - v_hat\n",
    "        q = 0.5  # Risk-neutral probability\n",
    "\n",
    "        # Calculate the option price using the binomial model\n",
    "        option_price = 0\n",
    "        for i in range(N+1):\n",
    "            S_T = S * u**(N-i) * d**i\n",
    "            payoff = max(S_T - K, 0)\n",
    "            option_price += binomial_coeff(N, i) * q**(N-i) * (1-q)**i * payoff\n",
    "\n",
    "        # Compute loss and store it\n",
    "        loss = (option_price - V)**2\n",
    "        losses.append(loss)\n",
    "\n",
    "        # Check for convergence\n",
    "        if loss < tolerance:\n",
    "            print(f\"Convergence reached at epoch {epoch}\")\n",
    "            break\n",
    "\n",
    "        # Calculate the gradient for v_hat\n",
    "        gradient = 0\n",
    "        for i in range(N+1):\n",
    "            S_T = S * u**(N-i) * d**i\n",
    "            payoff_derivative = (N-i)*S*u**(N-i-1)*d**i if S_T > K else 0\n",
    "            gradient += binomial_coeff(N, i) * q**(N-i) * (1-q)**i * payoff_derivative\n",
    "\n",
    "        # Update rule for v_hat\n",
    "        v_hat -= eta / (2 * V) * gradient * loss\n",
    "\n",
    "    return v_hat, losses\n",
    "\n",
    "# Example usage\n",
    "S0 = 1  # Initial asset price\n",
    "optimal_v, losses = calibrate_v(K=1.02, V=0.25265625, S=S0, N=5)\n",
    "print(f\"Optimal v: {optimal_v}\")\n"
   ]
  },
  {
   "cell_type": "code",
   "execution_count": 5,
   "id": "c9f1eafa",
   "metadata": {},
   "outputs": [
    {
     "data": {
      "image/png": "[encoded data removed]",
      "text/plain": [
       "<Figure size 640x480 with 1 Axes>"
      ]
     },
     "metadata": {},
     "output_type": "display_data"
    }
   ],
   "source": [
    "# Plotting the losses of the gradient descent model used to calibrate growth rate, v\n",
    "plt.plot(losses)\n",
    "plt.xlabel(\"iteration\")\n",
    "plt.ylabel(\"loss\")\n",
    "plt.title(\"Gradient Descent to calibrate growth rate 'v'\")\n",
    "\n",
    "plt.show()"
   ]
  }
 ],
 "metadata": {
  "kernelspec": {
   "display_name": "Python 3 (ipykernel)",
   "language": "python",
   "name": "python3"
  },
  "language_info": {
   "codemirror_mode": {
    "name": "ipython",
    "version": 3
   },
   "file_extension": ".py",
   "mimetype": "text/x-python",
   "name": "python",
   "nbconvert_exporter": "python",
   "pygments_lexer": "ipython3",
   "version": "3.11.4"
  }
 },
 "nbformat": 4,
 "nbformat_minor": 5
}
